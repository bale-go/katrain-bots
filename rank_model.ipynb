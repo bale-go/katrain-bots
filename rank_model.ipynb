{
 "cells": [
  {
   "cell_type": "code",
   "execution_count": 2,
   "metadata": {},
   "outputs": [],
   "source": [
    "import math, glob, time, os, re, json\n",
    "import numpy as np\n",
    "import pandas as pd\n",
    "from collections import defaultdict\n",
    "from matplotlib import pyplot as plt\n",
    "from tqdm.notebook import trange, tqdm"
   ]
  },
  {
   "cell_type": "code",
   "execution_count": 3,
   "metadata": {},
   "outputs": [],
   "source": [
    "def normalized_histogram(data, bins):\n",
    "    weights = np.ones_like(data) / len(data)\n",
    "    return np.histogram(data, bins, weights = weights)\n",
    "\n",
    "plt.rcParams.update({'font.size': 22})"
   ]
  },
  {
   "cell_type": "code",
   "execution_count": 10,
   "metadata": {},
   "outputs": [
    {
     "name": "stdout",
     "output_type": "stream",
     "text": [
      "Loaded 2431 games and 665119 moves.\n"
     ]
    }
   ],
   "source": [
    "moves_data = pd.read_csv('moves-20b.csv.gz',index_col=0)\n",
    "games_data = pd.read_csv('games-20b.csv.gz',index_col=0)\n",
    "print(f\"Loaded {games_data.shape[0]} games and {moves_data.shape[0]} moves.\")"
   ]
  },
  {
   "cell_type": "code",
   "execution_count": 11,
   "metadata": {},
   "outputs": [],
   "source": [
    "user_moves = moves_data[moves_data.move_color==moves_data.user_color].copy()"
   ]
  },
  {
   "cell_type": "code",
   "execution_count": 25,
   "metadata": {},
   "outputs": [],
   "source": [
    "def make_features(df):\n",
    "    pol_rank_frac, _bins = normalized_histogram(df.policy_rank.values,bins=[-0.5,0.5,3.5,9.5,19.5,39.5,79.5])\n",
    "    pol_loss_frac, _bins = normalized_histogram(df.top_value - df.policy_value,bins=np.arange(-0.025,0.975,0.05)) #??\n",
    "    score_loss, _bins = normalized_histogram(df.points_lost.clip(-6,50),bins=[-6,-1.5,-0.5,0.5,1.5,3,6,12,25,50])\n",
    "    \n",
    "    f =  {f\"{k}.{i}\":v for k,l in {'policy_rank_hist':pol_rank_frac,\n",
    "                       #'policy_loss_hist':pol_loss_frac,\n",
    "                       'score_loss_hist':score_loss}.items() for i,v in enumerate(l) }\n",
    "    f['n_moves'] = max(df.move)\n",
    "    return f"
   ]
  },
  {
   "cell_type": "code",
   "execution_count": 26,
   "metadata": {},
   "outputs": [
    {
     "data": {
      "text/html": [
       "<div>\n",
       "<style scoped>\n",
       "    .dataframe tbody tr th:only-of-type {\n",
       "        vertical-align: middle;\n",
       "    }\n",
       "\n",
       "    .dataframe tbody tr th {\n",
       "        vertical-align: top;\n",
       "    }\n",
       "\n",
       "    .dataframe thead th {\n",
       "        text-align: right;\n",
       "    }\n",
       "</style>\n",
       "<table border=\"1\" class=\"dataframe\">\n",
       "  <thead>\n",
       "    <tr style=\"text-align: right;\">\n",
       "      <th></th>\n",
       "      <th>game_id</th>\n",
       "      <th>move</th>\n",
       "      <th>num_legal</th>\n",
       "      <th>policy_rank</th>\n",
       "      <th>policy_value</th>\n",
       "      <th>top_value</th>\n",
       "      <th>black_score</th>\n",
       "      <th>points_lost</th>\n",
       "      <th>move_color</th>\n",
       "      <th>user_color</th>\n",
       "    </tr>\n",
       "  </thead>\n",
       "  <tbody>\n",
       "    <tr>\n",
       "      <th>0</th>\n",
       "      <td>24614579</td>\n",
       "      <td>1</td>\n",
       "      <td>362</td>\n",
       "      <td>37</td>\n",
       "      <td>0.000729</td>\n",
       "      <td>0.083457</td>\n",
       "      <td>-1.340746</td>\n",
       "      <td>0.628943</td>\n",
       "      <td>black</td>\n",
       "      <td>white</td>\n",
       "    </tr>\n",
       "    <tr>\n",
       "      <th>1</th>\n",
       "      <td>24614579</td>\n",
       "      <td>2</td>\n",
       "      <td>361</td>\n",
       "      <td>6</td>\n",
       "      <td>0.018248</td>\n",
       "      <td>0.416445</td>\n",
       "      <td>-1.148735</td>\n",
       "      <td>0.192010</td>\n",
       "      <td>white</td>\n",
       "      <td>white</td>\n",
       "    </tr>\n",
       "    <tr>\n",
       "      <th>2</th>\n",
       "      <td>24614579</td>\n",
       "      <td>3</td>\n",
       "      <td>360</td>\n",
       "      <td>21</td>\n",
       "      <td>0.000658</td>\n",
       "      <td>0.574577</td>\n",
       "      <td>-1.575831</td>\n",
       "      <td>0.427096</td>\n",
       "      <td>black</td>\n",
       "      <td>white</td>\n",
       "    </tr>\n",
       "    <tr>\n",
       "      <th>3</th>\n",
       "      <td>24614579</td>\n",
       "      <td>4</td>\n",
       "      <td>359</td>\n",
       "      <td>5</td>\n",
       "      <td>0.016626</td>\n",
       "      <td>0.451228</td>\n",
       "      <td>-1.588290</td>\n",
       "      <td>-0.012458</td>\n",
       "      <td>white</td>\n",
       "      <td>white</td>\n",
       "    </tr>\n",
       "    <tr>\n",
       "      <th>4</th>\n",
       "      <td>24614579</td>\n",
       "      <td>5</td>\n",
       "      <td>358</td>\n",
       "      <td>15</td>\n",
       "      <td>0.000753</td>\n",
       "      <td>0.564865</td>\n",
       "      <td>-1.899404</td>\n",
       "      <td>0.311114</td>\n",
       "      <td>black</td>\n",
       "      <td>white</td>\n",
       "    </tr>\n",
       "    <tr>\n",
       "      <th>...</th>\n",
       "      <td>...</td>\n",
       "      <td>...</td>\n",
       "      <td>...</td>\n",
       "      <td>...</td>\n",
       "      <td>...</td>\n",
       "      <td>...</td>\n",
       "      <td>...</td>\n",
       "      <td>...</td>\n",
       "      <td>...</td>\n",
       "      <td>...</td>\n",
       "    </tr>\n",
       "    <tr>\n",
       "      <th>665114</th>\n",
       "      <td>24679322</td>\n",
       "      <td>264</td>\n",
       "      <td>107</td>\n",
       "      <td>4</td>\n",
       "      <td>0.046985</td>\n",
       "      <td>0.078753</td>\n",
       "      <td>-50.762959</td>\n",
       "      <td>-1.000729</td>\n",
       "      <td>white</td>\n",
       "      <td>black</td>\n",
       "    </tr>\n",
       "    <tr>\n",
       "      <th>665115</th>\n",
       "      <td>24679322</td>\n",
       "      <td>265</td>\n",
       "      <td>114</td>\n",
       "      <td>0</td>\n",
       "      <td>0.070761</td>\n",
       "      <td>0.070761</td>\n",
       "      <td>-49.834446</td>\n",
       "      <td>-0.928513</td>\n",
       "      <td>black</td>\n",
       "      <td>black</td>\n",
       "    </tr>\n",
       "    <tr>\n",
       "      <th>665116</th>\n",
       "      <td>24679322</td>\n",
       "      <td>266</td>\n",
       "      <td>106</td>\n",
       "      <td>0</td>\n",
       "      <td>0.080871</td>\n",
       "      <td>0.080871</td>\n",
       "      <td>-50.532585</td>\n",
       "      <td>-0.698139</td>\n",
       "      <td>white</td>\n",
       "      <td>black</td>\n",
       "    </tr>\n",
       "    <tr>\n",
       "      <th>665117</th>\n",
       "      <td>24679322</td>\n",
       "      <td>267</td>\n",
       "      <td>113</td>\n",
       "      <td>0</td>\n",
       "      <td>0.079108</td>\n",
       "      <td>0.079108</td>\n",
       "      <td>-49.847683</td>\n",
       "      <td>-0.684902</td>\n",
       "      <td>black</td>\n",
       "      <td>black</td>\n",
       "    </tr>\n",
       "    <tr>\n",
       "      <th>665118</th>\n",
       "      <td>24679322</td>\n",
       "      <td>268</td>\n",
       "      <td>106</td>\n",
       "      <td>100</td>\n",
       "      <td>0.001247</td>\n",
       "      <td>0.085504</td>\n",
       "      <td>-50.477768</td>\n",
       "      <td>-0.630085</td>\n",
       "      <td>white</td>\n",
       "      <td>black</td>\n",
       "    </tr>\n",
       "  </tbody>\n",
       "</table>\n",
       "<p>665119 rows × 10 columns</p>\n",
       "</div>"
      ],
      "text/plain": [
       "         game_id  move  num_legal  policy_rank  policy_value  top_value  \\\n",
       "0       24614579     1        362           37      0.000729   0.083457   \n",
       "1       24614579     2        361            6      0.018248   0.416445   \n",
       "2       24614579     3        360           21      0.000658   0.574577   \n",
       "3       24614579     4        359            5      0.016626   0.451228   \n",
       "4       24614579     5        358           15      0.000753   0.564865   \n",
       "...          ...   ...        ...          ...           ...        ...   \n",
       "665114  24679322   264        107            4      0.046985   0.078753   \n",
       "665115  24679322   265        114            0      0.070761   0.070761   \n",
       "665116  24679322   266        106            0      0.080871   0.080871   \n",
       "665117  24679322   267        113            0      0.079108   0.079108   \n",
       "665118  24679322   268        106          100      0.001247   0.085504   \n",
       "\n",
       "        black_score  points_lost move_color user_color  \n",
       "0         -1.340746     0.628943      black      white  \n",
       "1         -1.148735     0.192010      white      white  \n",
       "2         -1.575831     0.427096      black      white  \n",
       "3         -1.588290    -0.012458      white      white  \n",
       "4         -1.899404     0.311114      black      white  \n",
       "...             ...          ...        ...        ...  \n",
       "665114   -50.762959    -1.000729      white      black  \n",
       "665115   -49.834446    -0.928513      black      black  \n",
       "665116   -50.532585    -0.698139      white      black  \n",
       "665117   -49.847683    -0.684902      black      black  \n",
       "665118   -50.477768    -0.630085      white      black  \n",
       "\n",
       "[665119 rows x 10 columns]"
      ]
     },
     "execution_count": 26,
     "metadata": {},
     "output_type": "execute_result"
    }
   ],
   "source": [
    "moves_data"
   ]
  },
  {
   "cell_type": "code",
   "execution_count": 27,
   "metadata": {},
   "outputs": [],
   "source": [
    "x = []\n",
    "y = []\n",
    "x_game_id = []\n",
    "for game_id,df in user_moves.groupby('game_id'):\n",
    "    x_game_id.append(game_id)\n",
    "    x.append(make_features(df))\n",
    "    y.append( games_data.loc[game_id,'user_rank'] )"
   ]
  },
  {
   "cell_type": "code",
   "execution_count": 28,
   "metadata": {},
   "outputs": [
    {
     "data": {
      "text/html": [
       "<div>\n",
       "<style scoped>\n",
       "    .dataframe tbody tr th:only-of-type {\n",
       "        vertical-align: middle;\n",
       "    }\n",
       "\n",
       "    .dataframe tbody tr th {\n",
       "        vertical-align: top;\n",
       "    }\n",
       "\n",
       "    .dataframe thead th {\n",
       "        text-align: right;\n",
       "    }\n",
       "</style>\n",
       "<table border=\"1\" class=\"dataframe\">\n",
       "  <thead>\n",
       "    <tr style=\"text-align: right;\">\n",
       "      <th></th>\n",
       "      <th>policy_rank_hist.0</th>\n",
       "      <th>policy_rank_hist.1</th>\n",
       "      <th>policy_rank_hist.2</th>\n",
       "      <th>policy_rank_hist.3</th>\n",
       "      <th>policy_rank_hist.4</th>\n",
       "      <th>policy_rank_hist.5</th>\n",
       "      <th>score_loss_hist.0</th>\n",
       "      <th>score_loss_hist.1</th>\n",
       "      <th>score_loss_hist.2</th>\n",
       "      <th>score_loss_hist.3</th>\n",
       "      <th>score_loss_hist.4</th>\n",
       "      <th>score_loss_hist.5</th>\n",
       "      <th>score_loss_hist.6</th>\n",
       "      <th>score_loss_hist.7</th>\n",
       "      <th>score_loss_hist.8</th>\n",
       "      <th>n_moves</th>\n",
       "    </tr>\n",
       "  </thead>\n",
       "  <tbody>\n",
       "    <tr>\n",
       "      <th>0</th>\n",
       "      <td>0.294118</td>\n",
       "      <td>0.264706</td>\n",
       "      <td>0.127451</td>\n",
       "      <td>0.098039</td>\n",
       "      <td>0.098039</td>\n",
       "      <td>0.098039</td>\n",
       "      <td>0.049020</td>\n",
       "      <td>0.088235</td>\n",
       "      <td>0.274510</td>\n",
       "      <td>0.196078</td>\n",
       "      <td>0.039216</td>\n",
       "      <td>0.147059</td>\n",
       "      <td>0.196078</td>\n",
       "      <td>0.009804</td>\n",
       "      <td>0.000000</td>\n",
       "      <td>204</td>\n",
       "    </tr>\n",
       "    <tr>\n",
       "      <th>1</th>\n",
       "      <td>0.367347</td>\n",
       "      <td>0.272109</td>\n",
       "      <td>0.183673</td>\n",
       "      <td>0.081633</td>\n",
       "      <td>0.040816</td>\n",
       "      <td>0.034014</td>\n",
       "      <td>0.088435</td>\n",
       "      <td>0.170068</td>\n",
       "      <td>0.312925</td>\n",
       "      <td>0.102041</td>\n",
       "      <td>0.102041</td>\n",
       "      <td>0.088435</td>\n",
       "      <td>0.095238</td>\n",
       "      <td>0.040816</td>\n",
       "      <td>0.000000</td>\n",
       "      <td>294</td>\n",
       "    </tr>\n",
       "    <tr>\n",
       "      <th>2</th>\n",
       "      <td>0.355030</td>\n",
       "      <td>0.213018</td>\n",
       "      <td>0.142012</td>\n",
       "      <td>0.100592</td>\n",
       "      <td>0.100592</td>\n",
       "      <td>0.071006</td>\n",
       "      <td>0.153846</td>\n",
       "      <td>0.153846</td>\n",
       "      <td>0.272189</td>\n",
       "      <td>0.142012</td>\n",
       "      <td>0.106509</td>\n",
       "      <td>0.088757</td>\n",
       "      <td>0.041420</td>\n",
       "      <td>0.035503</td>\n",
       "      <td>0.005917</td>\n",
       "      <td>337</td>\n",
       "    </tr>\n",
       "    <tr>\n",
       "      <th>3</th>\n",
       "      <td>0.232759</td>\n",
       "      <td>0.232759</td>\n",
       "      <td>0.155172</td>\n",
       "      <td>0.103448</td>\n",
       "      <td>0.086207</td>\n",
       "      <td>0.146552</td>\n",
       "      <td>0.137931</td>\n",
       "      <td>0.068966</td>\n",
       "      <td>0.215517</td>\n",
       "      <td>0.129310</td>\n",
       "      <td>0.086207</td>\n",
       "      <td>0.112069</td>\n",
       "      <td>0.120690</td>\n",
       "      <td>0.112069</td>\n",
       "      <td>0.017241</td>\n",
       "      <td>231</td>\n",
       "    </tr>\n",
       "    <tr>\n",
       "      <th>4</th>\n",
       "      <td>0.107383</td>\n",
       "      <td>0.281879</td>\n",
       "      <td>0.194631</td>\n",
       "      <td>0.120805</td>\n",
       "      <td>0.100671</td>\n",
       "      <td>0.114094</td>\n",
       "      <td>0.040268</td>\n",
       "      <td>0.046980</td>\n",
       "      <td>0.288591</td>\n",
       "      <td>0.228188</td>\n",
       "      <td>0.140940</td>\n",
       "      <td>0.107383</td>\n",
       "      <td>0.087248</td>\n",
       "      <td>0.040268</td>\n",
       "      <td>0.020134</td>\n",
       "      <td>298</td>\n",
       "    </tr>\n",
       "    <tr>\n",
       "      <th>...</th>\n",
       "      <td>...</td>\n",
       "      <td>...</td>\n",
       "      <td>...</td>\n",
       "      <td>...</td>\n",
       "      <td>...</td>\n",
       "      <td>...</td>\n",
       "      <td>...</td>\n",
       "      <td>...</td>\n",
       "      <td>...</td>\n",
       "      <td>...</td>\n",
       "      <td>...</td>\n",
       "      <td>...</td>\n",
       "      <td>...</td>\n",
       "      <td>...</td>\n",
       "      <td>...</td>\n",
       "      <td>...</td>\n",
       "    </tr>\n",
       "    <tr>\n",
       "      <th>2426</th>\n",
       "      <td>0.289720</td>\n",
       "      <td>0.233645</td>\n",
       "      <td>0.196262</td>\n",
       "      <td>0.112150</td>\n",
       "      <td>0.084112</td>\n",
       "      <td>0.065421</td>\n",
       "      <td>0.046729</td>\n",
       "      <td>0.056075</td>\n",
       "      <td>0.233645</td>\n",
       "      <td>0.065421</td>\n",
       "      <td>0.186916</td>\n",
       "      <td>0.149533</td>\n",
       "      <td>0.168224</td>\n",
       "      <td>0.056075</td>\n",
       "      <td>0.037383</td>\n",
       "      <td>214</td>\n",
       "    </tr>\n",
       "    <tr>\n",
       "      <th>2427</th>\n",
       "      <td>0.323529</td>\n",
       "      <td>0.227941</td>\n",
       "      <td>0.147059</td>\n",
       "      <td>0.095588</td>\n",
       "      <td>0.102941</td>\n",
       "      <td>0.066176</td>\n",
       "      <td>0.051471</td>\n",
       "      <td>0.117647</td>\n",
       "      <td>0.257353</td>\n",
       "      <td>0.257353</td>\n",
       "      <td>0.147059</td>\n",
       "      <td>0.139706</td>\n",
       "      <td>0.022059</td>\n",
       "      <td>0.007353</td>\n",
       "      <td>0.000000</td>\n",
       "      <td>271</td>\n",
       "    </tr>\n",
       "    <tr>\n",
       "      <th>2428</th>\n",
       "      <td>0.270677</td>\n",
       "      <td>0.263158</td>\n",
       "      <td>0.067669</td>\n",
       "      <td>0.210526</td>\n",
       "      <td>0.082707</td>\n",
       "      <td>0.067669</td>\n",
       "      <td>0.045113</td>\n",
       "      <td>0.075188</td>\n",
       "      <td>0.278195</td>\n",
       "      <td>0.255639</td>\n",
       "      <td>0.157895</td>\n",
       "      <td>0.127820</td>\n",
       "      <td>0.045113</td>\n",
       "      <td>0.015038</td>\n",
       "      <td>0.000000</td>\n",
       "      <td>266</td>\n",
       "    </tr>\n",
       "    <tr>\n",
       "      <th>2429</th>\n",
       "      <td>0.338346</td>\n",
       "      <td>0.218045</td>\n",
       "      <td>0.165414</td>\n",
       "      <td>0.082707</td>\n",
       "      <td>0.082707</td>\n",
       "      <td>0.082707</td>\n",
       "      <td>0.030075</td>\n",
       "      <td>0.082707</td>\n",
       "      <td>0.180451</td>\n",
       "      <td>0.187970</td>\n",
       "      <td>0.142857</td>\n",
       "      <td>0.135338</td>\n",
       "      <td>0.120301</td>\n",
       "      <td>0.082707</td>\n",
       "      <td>0.037594</td>\n",
       "      <td>265</td>\n",
       "    </tr>\n",
       "    <tr>\n",
       "      <th>2430</th>\n",
       "      <td>0.404110</td>\n",
       "      <td>0.273973</td>\n",
       "      <td>0.130137</td>\n",
       "      <td>0.075342</td>\n",
       "      <td>0.068493</td>\n",
       "      <td>0.027397</td>\n",
       "      <td>0.157534</td>\n",
       "      <td>0.068493</td>\n",
       "      <td>0.157534</td>\n",
       "      <td>0.157534</td>\n",
       "      <td>0.164384</td>\n",
       "      <td>0.205479</td>\n",
       "      <td>0.089041</td>\n",
       "      <td>0.000000</td>\n",
       "      <td>0.000000</td>\n",
       "      <td>291</td>\n",
       "    </tr>\n",
       "  </tbody>\n",
       "</table>\n",
       "<p>2431 rows × 16 columns</p>\n",
       "</div>"
      ],
      "text/plain": [
       "      policy_rank_hist.0  policy_rank_hist.1  policy_rank_hist.2  \\\n",
       "0               0.294118            0.264706            0.127451   \n",
       "1               0.367347            0.272109            0.183673   \n",
       "2               0.355030            0.213018            0.142012   \n",
       "3               0.232759            0.232759            0.155172   \n",
       "4               0.107383            0.281879            0.194631   \n",
       "...                  ...                 ...                 ...   \n",
       "2426            0.289720            0.233645            0.196262   \n",
       "2427            0.323529            0.227941            0.147059   \n",
       "2428            0.270677            0.263158            0.067669   \n",
       "2429            0.338346            0.218045            0.165414   \n",
       "2430            0.404110            0.273973            0.130137   \n",
       "\n",
       "      policy_rank_hist.3  policy_rank_hist.4  policy_rank_hist.5  \\\n",
       "0               0.098039            0.098039            0.098039   \n",
       "1               0.081633            0.040816            0.034014   \n",
       "2               0.100592            0.100592            0.071006   \n",
       "3               0.103448            0.086207            0.146552   \n",
       "4               0.120805            0.100671            0.114094   \n",
       "...                  ...                 ...                 ...   \n",
       "2426            0.112150            0.084112            0.065421   \n",
       "2427            0.095588            0.102941            0.066176   \n",
       "2428            0.210526            0.082707            0.067669   \n",
       "2429            0.082707            0.082707            0.082707   \n",
       "2430            0.075342            0.068493            0.027397   \n",
       "\n",
       "      score_loss_hist.0  score_loss_hist.1  score_loss_hist.2  \\\n",
       "0              0.049020           0.088235           0.274510   \n",
       "1              0.088435           0.170068           0.312925   \n",
       "2              0.153846           0.153846           0.272189   \n",
       "3              0.137931           0.068966           0.215517   \n",
       "4              0.040268           0.046980           0.288591   \n",
       "...                 ...                ...                ...   \n",
       "2426           0.046729           0.056075           0.233645   \n",
       "2427           0.051471           0.117647           0.257353   \n",
       "2428           0.045113           0.075188           0.278195   \n",
       "2429           0.030075           0.082707           0.180451   \n",
       "2430           0.157534           0.068493           0.157534   \n",
       "\n",
       "      score_loss_hist.3  score_loss_hist.4  score_loss_hist.5  \\\n",
       "0              0.196078           0.039216           0.147059   \n",
       "1              0.102041           0.102041           0.088435   \n",
       "2              0.142012           0.106509           0.088757   \n",
       "3              0.129310           0.086207           0.112069   \n",
       "4              0.228188           0.140940           0.107383   \n",
       "...                 ...                ...                ...   \n",
       "2426           0.065421           0.186916           0.149533   \n",
       "2427           0.257353           0.147059           0.139706   \n",
       "2428           0.255639           0.157895           0.127820   \n",
       "2429           0.187970           0.142857           0.135338   \n",
       "2430           0.157534           0.164384           0.205479   \n",
       "\n",
       "      score_loss_hist.6  score_loss_hist.7  score_loss_hist.8  n_moves  \n",
       "0              0.196078           0.009804           0.000000      204  \n",
       "1              0.095238           0.040816           0.000000      294  \n",
       "2              0.041420           0.035503           0.005917      337  \n",
       "3              0.120690           0.112069           0.017241      231  \n",
       "4              0.087248           0.040268           0.020134      298  \n",
       "...                 ...                ...                ...      ...  \n",
       "2426           0.168224           0.056075           0.037383      214  \n",
       "2427           0.022059           0.007353           0.000000      271  \n",
       "2428           0.045113           0.015038           0.000000      266  \n",
       "2429           0.120301           0.082707           0.037594      265  \n",
       "2430           0.089041           0.000000           0.000000      291  \n",
       "\n",
       "[2431 rows x 16 columns]"
      ]
     },
     "execution_count": 28,
     "metadata": {},
     "output_type": "execute_result"
    }
   ],
   "source": [
    "from sklearn.preprocessing import StandardScaler\n",
    "ss = StandardScaler()\n",
    "\n",
    "df = pd.DataFrame(x)\n",
    "y_all=np.array(y)\n",
    "sel = y_all<25\n",
    "y_sel = y_all[sel]\n",
    "x=df.values\n",
    "xN_sel = ss.fit_transform(x[sel,:])\n",
    "xN_all = ss.transform(x)\n",
    "x_game_id=np.array(x_game_id)\n",
    "df"
   ]
  },
  {
   "cell_type": "code",
   "execution_count": 30,
   "metadata": {},
   "outputs": [],
   "source": [
    "import keras\n",
    "from keras.models import Sequential\n",
    "from keras.layers import Dense\n",
    "from keras.callbacks import EarlyStopping\n",
    "from keras_tqdm import TQDMNotebookCallback\n",
    "model = Sequential()\n",
    "model.add(Dense(20, input_dim=16, activation='tanh', kernel_regularizer='l2'))\n",
    "model.add(Dense(10, activation='tanh', kernel_regularizer='l2'))\n",
    "model.add(Dense(1, activation=None))\n",
    "model.compile(loss='mse', optimizer='adam')"
   ]
  },
  {
   "cell_type": "code",
   "execution_count": 31,
   "metadata": {},
   "outputs": [
    {
     "data": {
      "application/vnd.jupyter.widget-view+json": {
       "model_id": "e951a1e193984d3a9f31960b09150b94",
       "version_major": 2,
       "version_minor": 0
      },
      "text/plain": [
       "HBox(children=(FloatProgress(value=0.0, description='Training', style=ProgressStyle(description_width='initial…"
      ]
     },
     "metadata": {},
     "output_type": "display_data"
    },
    {
     "data": {
      "application/vnd.jupyter.widget-view+json": {
       "model_id": "",
       "version_major": 2,
       "version_minor": 0
      },
      "text/plain": [
       "HBox(children=(FloatProgress(value=0.0, description='Epoch 0', max=2101.0, style=ProgressStyle(description_wid…"
      ]
     },
     "metadata": {},
     "output_type": "display_data"
    },
    {
     "data": {
      "application/vnd.jupyter.widget-view+json": {
       "model_id": "",
       "version_major": 2,
       "version_minor": 0
      },
      "text/plain": [
       "HBox(children=(FloatProgress(value=0.0, description='Epoch 1', max=2101.0, style=ProgressStyle(description_wid…"
      ]
     },
     "metadata": {},
     "output_type": "display_data"
    },
    {
     "data": {
      "application/vnd.jupyter.widget-view+json": {
       "model_id": "",
       "version_major": 2,
       "version_minor": 0
      },
      "text/plain": [
       "HBox(children=(FloatProgress(value=0.0, description='Epoch 2', max=2101.0, style=ProgressStyle(description_wid…"
      ]
     },
     "metadata": {},
     "output_type": "display_data"
    },
    {
     "data": {
      "application/vnd.jupyter.widget-view+json": {
       "model_id": "",
       "version_major": 2,
       "version_minor": 0
      },
      "text/plain": [
       "HBox(children=(FloatProgress(value=0.0, description='Epoch 3', max=2101.0, style=ProgressStyle(description_wid…"
      ]
     },
     "metadata": {},
     "output_type": "display_data"
    },
    {
     "data": {
      "application/vnd.jupyter.widget-view+json": {
       "model_id": "",
       "version_major": 2,
       "version_minor": 0
      },
      "text/plain": [
       "HBox(children=(FloatProgress(value=0.0, description='Epoch 4', max=2101.0, style=ProgressStyle(description_wid…"
      ]
     },
     "metadata": {},
     "output_type": "display_data"
    },
    {
     "data": {
      "application/vnd.jupyter.widget-view+json": {
       "model_id": "",
       "version_major": 2,
       "version_minor": 0
      },
      "text/plain": [
       "HBox(children=(FloatProgress(value=0.0, description='Epoch 5', max=2101.0, style=ProgressStyle(description_wid…"
      ]
     },
     "metadata": {},
     "output_type": "display_data"
    },
    {
     "data": {
      "application/vnd.jupyter.widget-view+json": {
       "model_id": "",
       "version_major": 2,
       "version_minor": 0
      },
      "text/plain": [
       "HBox(children=(FloatProgress(value=0.0, description='Epoch 6', max=2101.0, style=ProgressStyle(description_wid…"
      ]
     },
     "metadata": {},
     "output_type": "display_data"
    },
    {
     "data": {
      "application/vnd.jupyter.widget-view+json": {
       "model_id": "",
       "version_major": 2,
       "version_minor": 0
      },
      "text/plain": [
       "HBox(children=(FloatProgress(value=0.0, description='Epoch 7', max=2101.0, style=ProgressStyle(description_wid…"
      ]
     },
     "metadata": {},
     "output_type": "display_data"
    },
    {
     "data": {
      "application/vnd.jupyter.widget-view+json": {
       "model_id": "",
       "version_major": 2,
       "version_minor": 0
      },
      "text/plain": [
       "HBox(children=(FloatProgress(value=0.0, description='Epoch 8', max=2101.0, style=ProgressStyle(description_wid…"
      ]
     },
     "metadata": {},
     "output_type": "display_data"
    },
    {
     "data": {
      "application/vnd.jupyter.widget-view+json": {
       "model_id": "",
       "version_major": 2,
       "version_minor": 0
      },
      "text/plain": [
       "HBox(children=(FloatProgress(value=0.0, description='Epoch 9', max=2101.0, style=ProgressStyle(description_wid…"
      ]
     },
     "metadata": {},
     "output_type": "display_data"
    },
    {
     "data": {
      "application/vnd.jupyter.widget-view+json": {
       "model_id": "",
       "version_major": 2,
       "version_minor": 0
      },
      "text/plain": [
       "HBox(children=(FloatProgress(value=0.0, description='Epoch 10', max=2101.0, style=ProgressStyle(description_wi…"
      ]
     },
     "metadata": {},
     "output_type": "display_data"
    },
    {
     "data": {
      "application/vnd.jupyter.widget-view+json": {
       "model_id": "",
       "version_major": 2,
       "version_minor": 0
      },
      "text/plain": [
       "HBox(children=(FloatProgress(value=0.0, description='Epoch 11', max=2101.0, style=ProgressStyle(description_wi…"
      ]
     },
     "metadata": {},
     "output_type": "display_data"
    },
    {
     "data": {
      "application/vnd.jupyter.widget-view+json": {
       "model_id": "",
       "version_major": 2,
       "version_minor": 0
      },
      "text/plain": [
       "HBox(children=(FloatProgress(value=0.0, description='Epoch 12', max=2101.0, style=ProgressStyle(description_wi…"
      ]
     },
     "metadata": {},
     "output_type": "display_data"
    },
    {
     "data": {
      "application/vnd.jupyter.widget-view+json": {
       "model_id": "",
       "version_major": 2,
       "version_minor": 0
      },
      "text/plain": [
       "HBox(children=(FloatProgress(value=0.0, description='Epoch 13', max=2101.0, style=ProgressStyle(description_wi…"
      ]
     },
     "metadata": {},
     "output_type": "display_data"
    },
    {
     "data": {
      "application/vnd.jupyter.widget-view+json": {
       "model_id": "",
       "version_major": 2,
       "version_minor": 0
      },
      "text/plain": [
       "HBox(children=(FloatProgress(value=0.0, description='Epoch 14', max=2101.0, style=ProgressStyle(description_wi…"
      ]
     },
     "metadata": {},
     "output_type": "display_data"
    },
    {
     "data": {
      "application/vnd.jupyter.widget-view+json": {
       "model_id": "",
       "version_major": 2,
       "version_minor": 0
      },
      "text/plain": [
       "HBox(children=(FloatProgress(value=0.0, description='Epoch 15', max=2101.0, style=ProgressStyle(description_wi…"
      ]
     },
     "metadata": {},
     "output_type": "display_data"
    },
    {
     "data": {
      "application/vnd.jupyter.widget-view+json": {
       "model_id": "",
       "version_major": 2,
       "version_minor": 0
      },
      "text/plain": [
       "HBox(children=(FloatProgress(value=0.0, description='Epoch 16', max=2101.0, style=ProgressStyle(description_wi…"
      ]
     },
     "metadata": {},
     "output_type": "display_data"
    },
    {
     "data": {
      "application/vnd.jupyter.widget-view+json": {
       "model_id": "",
       "version_major": 2,
       "version_minor": 0
      },
      "text/plain": [
       "HBox(children=(FloatProgress(value=0.0, description='Epoch 17', max=2101.0, style=ProgressStyle(description_wi…"
      ]
     },
     "metadata": {},
     "output_type": "display_data"
    },
    {
     "data": {
      "application/vnd.jupyter.widget-view+json": {
       "model_id": "",
       "version_major": 2,
       "version_minor": 0
      },
      "text/plain": [
       "HBox(children=(FloatProgress(value=0.0, description='Epoch 18', max=2101.0, style=ProgressStyle(description_wi…"
      ]
     },
     "metadata": {},
     "output_type": "display_data"
    },
    {
     "data": {
      "application/vnd.jupyter.widget-view+json": {
       "model_id": "",
       "version_major": 2,
       "version_minor": 0
      },
      "text/plain": [
       "HBox(children=(FloatProgress(value=0.0, description='Epoch 19', max=2101.0, style=ProgressStyle(description_wi…"
      ]
     },
     "metadata": {},
     "output_type": "display_data"
    },
    {
     "data": {
      "application/vnd.jupyter.widget-view+json": {
       "model_id": "",
       "version_major": 2,
       "version_minor": 0
      },
      "text/plain": [
       "HBox(children=(FloatProgress(value=0.0, description='Epoch 20', max=2101.0, style=ProgressStyle(description_wi…"
      ]
     },
     "metadata": {},
     "output_type": "display_data"
    },
    {
     "data": {
      "application/vnd.jupyter.widget-view+json": {
       "model_id": "",
       "version_major": 2,
       "version_minor": 0
      },
      "text/plain": [
       "HBox(children=(FloatProgress(value=0.0, description='Epoch 21', max=2101.0, style=ProgressStyle(description_wi…"
      ]
     },
     "metadata": {},
     "output_type": "display_data"
    },
    {
     "data": {
      "application/vnd.jupyter.widget-view+json": {
       "model_id": "",
       "version_major": 2,
       "version_minor": 0
      },
      "text/plain": [
       "HBox(children=(FloatProgress(value=0.0, description='Epoch 22', max=2101.0, style=ProgressStyle(description_wi…"
      ]
     },
     "metadata": {},
     "output_type": "display_data"
    },
    {
     "data": {
      "application/vnd.jupyter.widget-view+json": {
       "model_id": "",
       "version_major": 2,
       "version_minor": 0
      },
      "text/plain": [
       "HBox(children=(FloatProgress(value=0.0, description='Epoch 23', max=2101.0, style=ProgressStyle(description_wi…"
      ]
     },
     "metadata": {},
     "output_type": "display_data"
    },
    {
     "data": {
      "application/vnd.jupyter.widget-view+json": {
       "model_id": "",
       "version_major": 2,
       "version_minor": 0
      },
      "text/plain": [
       "HBox(children=(FloatProgress(value=0.0, description='Epoch 24', max=2101.0, style=ProgressStyle(description_wi…"
      ]
     },
     "metadata": {},
     "output_type": "display_data"
    },
    {
     "data": {
      "application/vnd.jupyter.widget-view+json": {
       "model_id": "",
       "version_major": 2,
       "version_minor": 0
      },
      "text/plain": [
       "HBox(children=(FloatProgress(value=0.0, description='Epoch 25', max=2101.0, style=ProgressStyle(description_wi…"
      ]
     },
     "metadata": {},
     "output_type": "display_data"
    },
    {
     "data": {
      "application/vnd.jupyter.widget-view+json": {
       "model_id": "",
       "version_major": 2,
       "version_minor": 0
      },
      "text/plain": [
       "HBox(children=(FloatProgress(value=0.0, description='Epoch 26', max=2101.0, style=ProgressStyle(description_wi…"
      ]
     },
     "metadata": {},
     "output_type": "display_data"
    },
    {
     "data": {
      "application/vnd.jupyter.widget-view+json": {
       "model_id": "",
       "version_major": 2,
       "version_minor": 0
      },
      "text/plain": [
       "HBox(children=(FloatProgress(value=0.0, description='Epoch 27', max=2101.0, style=ProgressStyle(description_wi…"
      ]
     },
     "metadata": {},
     "output_type": "display_data"
    },
    {
     "data": {
      "application/vnd.jupyter.widget-view+json": {
       "model_id": "",
       "version_major": 2,
       "version_minor": 0
      },
      "text/plain": [
       "HBox(children=(FloatProgress(value=0.0, description='Epoch 28', max=2101.0, style=ProgressStyle(description_wi…"
      ]
     },
     "metadata": {},
     "output_type": "display_data"
    },
    {
     "data": {
      "application/vnd.jupyter.widget-view+json": {
       "model_id": "",
       "version_major": 2,
       "version_minor": 0
      },
      "text/plain": [
       "HBox(children=(FloatProgress(value=0.0, description='Epoch 29', max=2101.0, style=ProgressStyle(description_wi…"
      ]
     },
     "metadata": {},
     "output_type": "display_data"
    },
    {
     "data": {
      "application/vnd.jupyter.widget-view+json": {
       "model_id": "",
       "version_major": 2,
       "version_minor": 0
      },
      "text/plain": [
       "HBox(children=(FloatProgress(value=0.0, description='Epoch 30', max=2101.0, style=ProgressStyle(description_wi…"
      ]
     },
     "metadata": {},
     "output_type": "display_data"
    },
    {
     "data": {
      "application/vnd.jupyter.widget-view+json": {
       "model_id": "",
       "version_major": 2,
       "version_minor": 0
      },
      "text/plain": [
       "HBox(children=(FloatProgress(value=0.0, description='Epoch 31', max=2101.0, style=ProgressStyle(description_wi…"
      ]
     },
     "metadata": {},
     "output_type": "display_data"
    },
    {
     "data": {
      "application/vnd.jupyter.widget-view+json": {
       "model_id": "",
       "version_major": 2,
       "version_minor": 0
      },
      "text/plain": [
       "HBox(children=(FloatProgress(value=0.0, description='Epoch 32', max=2101.0, style=ProgressStyle(description_wi…"
      ]
     },
     "metadata": {},
     "output_type": "display_data"
    },
    {
     "data": {
      "application/vnd.jupyter.widget-view+json": {
       "model_id": "",
       "version_major": 2,
       "version_minor": 0
      },
      "text/plain": [
       "HBox(children=(FloatProgress(value=0.0, description='Epoch 33', max=2101.0, style=ProgressStyle(description_wi…"
      ]
     },
     "metadata": {},
     "output_type": "display_data"
    },
    {
     "data": {
      "application/vnd.jupyter.widget-view+json": {
       "model_id": "",
       "version_major": 2,
       "version_minor": 0
      },
      "text/plain": [
       "HBox(children=(FloatProgress(value=0.0, description='Epoch 34', max=2101.0, style=ProgressStyle(description_wi…"
      ]
     },
     "metadata": {},
     "output_type": "display_data"
    },
    {
     "data": {
      "application/vnd.jupyter.widget-view+json": {
       "model_id": "",
       "version_major": 2,
       "version_minor": 0
      },
      "text/plain": [
       "HBox(children=(FloatProgress(value=0.0, description='Epoch 35', max=2101.0, style=ProgressStyle(description_wi…"
      ]
     },
     "metadata": {},
     "output_type": "display_data"
    },
    {
     "data": {
      "application/vnd.jupyter.widget-view+json": {
       "model_id": "",
       "version_major": 2,
       "version_minor": 0
      },
      "text/plain": [
       "HBox(children=(FloatProgress(value=0.0, description='Epoch 36', max=2101.0, style=ProgressStyle(description_wi…"
      ]
     },
     "metadata": {},
     "output_type": "display_data"
    },
    {
     "data": {
      "application/vnd.jupyter.widget-view+json": {
       "model_id": "",
       "version_major": 2,
       "version_minor": 0
      },
      "text/plain": [
       "HBox(children=(FloatProgress(value=0.0, description='Epoch 37', max=2101.0, style=ProgressStyle(description_wi…"
      ]
     },
     "metadata": {},
     "output_type": "display_data"
    },
    {
     "data": {
      "application/vnd.jupyter.widget-view+json": {
       "model_id": "",
       "version_major": 2,
       "version_minor": 0
      },
      "text/plain": [
       "HBox(children=(FloatProgress(value=0.0, description='Epoch 38', max=2101.0, style=ProgressStyle(description_wi…"
      ]
     },
     "metadata": {},
     "output_type": "display_data"
    },
    {
     "data": {
      "application/vnd.jupyter.widget-view+json": {
       "model_id": "",
       "version_major": 2,
       "version_minor": 0
      },
      "text/plain": [
       "HBox(children=(FloatProgress(value=0.0, description='Epoch 39', max=2101.0, style=ProgressStyle(description_wi…"
      ]
     },
     "metadata": {},
     "output_type": "display_data"
    },
    {
     "data": {
      "application/vnd.jupyter.widget-view+json": {
       "model_id": "",
       "version_major": 2,
       "version_minor": 0
      },
      "text/plain": [
       "HBox(children=(FloatProgress(value=0.0, description='Epoch 40', max=2101.0, style=ProgressStyle(description_wi…"
      ]
     },
     "metadata": {},
     "output_type": "display_data"
    },
    {
     "data": {
      "application/vnd.jupyter.widget-view+json": {
       "model_id": "",
       "version_major": 2,
       "version_minor": 0
      },
      "text/plain": [
       "HBox(children=(FloatProgress(value=0.0, description='Epoch 41', max=2101.0, style=ProgressStyle(description_wi…"
      ]
     },
     "metadata": {},
     "output_type": "display_data"
    },
    {
     "data": {
      "application/vnd.jupyter.widget-view+json": {
       "model_id": "",
       "version_major": 2,
       "version_minor": 0
      },
      "text/plain": [
       "HBox(children=(FloatProgress(value=0.0, description='Epoch 42', max=2101.0, style=ProgressStyle(description_wi…"
      ]
     },
     "metadata": {},
     "output_type": "display_data"
    },
    {
     "data": {
      "application/vnd.jupyter.widget-view+json": {
       "model_id": "",
       "version_major": 2,
       "version_minor": 0
      },
      "text/plain": [
       "HBox(children=(FloatProgress(value=0.0, description='Epoch 43', max=2101.0, style=ProgressStyle(description_wi…"
      ]
     },
     "metadata": {},
     "output_type": "display_data"
    },
    {
     "data": {
      "application/vnd.jupyter.widget-view+json": {
       "model_id": "",
       "version_major": 2,
       "version_minor": 0
      },
      "text/plain": [
       "HBox(children=(FloatProgress(value=0.0, description='Epoch 44', max=2101.0, style=ProgressStyle(description_wi…"
      ]
     },
     "metadata": {},
     "output_type": "display_data"
    },
    {
     "data": {
      "application/vnd.jupyter.widget-view+json": {
       "model_id": "",
       "version_major": 2,
       "version_minor": 0
      },
      "text/plain": [
       "HBox(children=(FloatProgress(value=0.0, description='Epoch 45', max=2101.0, style=ProgressStyle(description_wi…"
      ]
     },
     "metadata": {},
     "output_type": "display_data"
    },
    {
     "data": {
      "application/vnd.jupyter.widget-view+json": {
       "model_id": "",
       "version_major": 2,
       "version_minor": 0
      },
      "text/plain": [
       "HBox(children=(FloatProgress(value=0.0, description='Epoch 46', max=2101.0, style=ProgressStyle(description_wi…"
      ]
     },
     "metadata": {},
     "output_type": "display_data"
    },
    {
     "data": {
      "application/vnd.jupyter.widget-view+json": {
       "model_id": "",
       "version_major": 2,
       "version_minor": 0
      },
      "text/plain": [
       "HBox(children=(FloatProgress(value=0.0, description='Epoch 47', max=2101.0, style=ProgressStyle(description_wi…"
      ]
     },
     "metadata": {},
     "output_type": "display_data"
    },
    {
     "data": {
      "application/vnd.jupyter.widget-view+json": {
       "model_id": "",
       "version_major": 2,
       "version_minor": 0
      },
      "text/plain": [
       "HBox(children=(FloatProgress(value=0.0, description='Epoch 48', max=2101.0, style=ProgressStyle(description_wi…"
      ]
     },
     "metadata": {},
     "output_type": "display_data"
    },
    {
     "data": {
      "application/vnd.jupyter.widget-view+json": {
       "model_id": "",
       "version_major": 2,
       "version_minor": 0
      },
      "text/plain": [
       "HBox(children=(FloatProgress(value=0.0, description='Epoch 49', max=2101.0, style=ProgressStyle(description_wi…"
      ]
     },
     "metadata": {},
     "output_type": "display_data"
    },
    {
     "data": {
      "application/vnd.jupyter.widget-view+json": {
       "model_id": "",
       "version_major": 2,
       "version_minor": 0
      },
      "text/plain": [
       "HBox(children=(FloatProgress(value=0.0, description='Epoch 50', max=2101.0, style=ProgressStyle(description_wi…"
      ]
     },
     "metadata": {},
     "output_type": "display_data"
    },
    {
     "data": {
      "application/vnd.jupyter.widget-view+json": {
       "model_id": "",
       "version_major": 2,
       "version_minor": 0
      },
      "text/plain": [
       "HBox(children=(FloatProgress(value=0.0, description='Epoch 51', max=2101.0, style=ProgressStyle(description_wi…"
      ]
     },
     "metadata": {},
     "output_type": "display_data"
    },
    {
     "data": {
      "application/vnd.jupyter.widget-view+json": {
       "model_id": "",
       "version_major": 2,
       "version_minor": 0
      },
      "text/plain": [
       "HBox(children=(FloatProgress(value=0.0, description='Epoch 52', max=2101.0, style=ProgressStyle(description_wi…"
      ]
     },
     "metadata": {},
     "output_type": "display_data"
    },
    {
     "data": {
      "application/vnd.jupyter.widget-view+json": {
       "model_id": "",
       "version_major": 2,
       "version_minor": 0
      },
      "text/plain": [
       "HBox(children=(FloatProgress(value=0.0, description='Epoch 53', max=2101.0, style=ProgressStyle(description_wi…"
      ]
     },
     "metadata": {},
     "output_type": "display_data"
    },
    {
     "data": {
      "application/vnd.jupyter.widget-view+json": {
       "model_id": "",
       "version_major": 2,
       "version_minor": 0
      },
      "text/plain": [
       "HBox(children=(FloatProgress(value=0.0, description='Epoch 54', max=2101.0, style=ProgressStyle(description_wi…"
      ]
     },
     "metadata": {},
     "output_type": "display_data"
    },
    {
     "data": {
      "application/vnd.jupyter.widget-view+json": {
       "model_id": "",
       "version_major": 2,
       "version_minor": 0
      },
      "text/plain": [
       "HBox(children=(FloatProgress(value=0.0, description='Epoch 55', max=2101.0, style=ProgressStyle(description_wi…"
      ]
     },
     "metadata": {},
     "output_type": "display_data"
    },
    {
     "data": {
      "application/vnd.jupyter.widget-view+json": {
       "model_id": "",
       "version_major": 2,
       "version_minor": 0
      },
      "text/plain": [
       "HBox(children=(FloatProgress(value=0.0, description='Epoch 56', max=2101.0, style=ProgressStyle(description_wi…"
      ]
     },
     "metadata": {},
     "output_type": "display_data"
    },
    {
     "data": {
      "application/vnd.jupyter.widget-view+json": {
       "model_id": "",
       "version_major": 2,
       "version_minor": 0
      },
      "text/plain": [
       "HBox(children=(FloatProgress(value=0.0, description='Epoch 57', max=2101.0, style=ProgressStyle(description_wi…"
      ]
     },
     "metadata": {},
     "output_type": "display_data"
    },
    {
     "data": {
      "application/vnd.jupyter.widget-view+json": {
       "model_id": "",
       "version_major": 2,
       "version_minor": 0
      },
      "text/plain": [
       "HBox(children=(FloatProgress(value=0.0, description='Epoch 58', max=2101.0, style=ProgressStyle(description_wi…"
      ]
     },
     "metadata": {},
     "output_type": "display_data"
    },
    {
     "data": {
      "application/vnd.jupyter.widget-view+json": {
       "model_id": "",
       "version_major": 2,
       "version_minor": 0
      },
      "text/plain": [
       "HBox(children=(FloatProgress(value=0.0, description='Epoch 59', max=2101.0, style=ProgressStyle(description_wi…"
      ]
     },
     "metadata": {},
     "output_type": "display_data"
    },
    {
     "data": {
      "application/vnd.jupyter.widget-view+json": {
       "model_id": "",
       "version_major": 2,
       "version_minor": 0
      },
      "text/plain": [
       "HBox(children=(FloatProgress(value=0.0, description='Epoch 60', max=2101.0, style=ProgressStyle(description_wi…"
      ]
     },
     "metadata": {},
     "output_type": "display_data"
    },
    {
     "data": {
      "application/vnd.jupyter.widget-view+json": {
       "model_id": "",
       "version_major": 2,
       "version_minor": 0
      },
      "text/plain": [
       "HBox(children=(FloatProgress(value=0.0, description='Epoch 61', max=2101.0, style=ProgressStyle(description_wi…"
      ]
     },
     "metadata": {},
     "output_type": "display_data"
    },
    {
     "name": "stdout",
     "output_type": "stream",
     "text": [
      "\n",
      "Epoch 00062: early stopping\n"
     ]
    }
   ],
   "source": [
    "es = EarlyStopping(monitor='val_loss', mode='min', verbose=1, patience=10)\n",
    "history = model.fit(xN_sel, y_sel, epochs=100, batch_size=16,verbose=0,\n",
    "                    validation_split=0.1,callbacks=[TQDMNotebookCallback(),es])"
   ]
  },
  {
   "cell_type": "code",
   "execution_count": 32,
   "metadata": {},
   "outputs": [
    {
     "data": {
      "text/plain": [
       "<matplotlib.legend.Legend at 0x7f2afc205048>"
      ]
     },
     "execution_count": 32,
     "metadata": {},
     "output_type": "execute_result"
    },
    {
     "data": {
      "image/png": "[encoded data removed]",
      "text/plain": [
       "<Figure size 432x288 with 1 Axes>"
      ]
     },
     "metadata": {
      "needs_background": "light"
     },
     "output_type": "display_data"
    }
   ],
   "source": [
    "plt.plot(history.history['loss'])\n",
    "plt.plot(history.history['val_loss']); plt.legend(['loss','validation loss'])"
   ]
  },
  {
   "cell_type": "code",
   "execution_count": 33,
   "metadata": {},
   "outputs": [
    {
     "data": {
      "text/plain": [
       "Text(0, 0.5, 'Predicted Rank')"
      ]
     },
     "execution_count": 33,
     "metadata": {},
     "output_type": "execute_result"
    },
    {
     "data": {
      "image/png": "[encoded data removed]",
      "text/plain": [
       "<Figure size 432x288 with 1 Axes>"
      ]
     },
     "metadata": {
      "needs_background": "light"
     },
     "output_type": "display_data"
    }
   ],
   "source": [
    "pY = model.predict(xN_all)[:,0]\n",
    "pY_sel = model.predict(xN_sel)[:,0]\n",
    "plt.scatter(y,pY)\n",
    "plt.scatter(y_sel,pY_sel)\n",
    "plt.xlabel('OGS Rank')\n",
    "plt.ylabel('Predicted Rank')"
   ]
  },
  {
   "cell_type": "code",
   "execution_count": 34,
   "metadata": {},
   "outputs": [
    {
     "data": {
      "text/plain": [
       "Text(0, 0.5, 'Predicted Rank')"
      ]
     },
     "execution_count": 34,
     "metadata": {},
     "output_type": "execute_result"
    },
    {
     "data": {
      "image/png": "[encoded data removed]",
      "text/plain": [
       "<Figure size 432x288 with 1 Axes>"
      ]
     },
     "metadata": {
      "needs_background": "light"
     },
     "output_type": "display_data"
    }
   ],
   "source": [
    "from scipy.stats import kde\n",
    "nbins=300\n",
    "k = kde.gaussian_kde(np.array([y,pY]))\n",
    "xi, yi = np.mgrid[-10:30:nbins*1j, -10:30:nbins*1j]\n",
    "zi = k(np.vstack([xi.flatten(), yi.flatten()]))\n",
    "plt.pcolormesh(xi, yi, zi.reshape(xi.shape), cmap=plt.cm.magma)\n",
    "plt.plot([-10, 30], [-10, 30], linewidth=0.5, c='m')\n",
    "plt.xlabel('OGS Rank')\n",
    "plt.ylabel('Predicted Rank')"
   ]
  },
  {
   "cell_type": "code",
   "execution_count": null,
   "metadata": {},
   "outputs": [],
   "source": []
  }
 ],
 "metadata": {
  "kernelspec": {
   "display_name": "Python 3",
   "language": "python",
   "name": "python3"
  },
  "language_info": {
   "codemirror_mode": {
    "name": "ipython",
    "version": 3
   },
   "file_extension": ".py",
   "mimetype": "text/x-python",
   "name": "python",
   "nbconvert_exporter": "python",
   "pygments_lexer": "ipython3",
   "version": "3.7.3"
  }
 },
 "nbformat": 4,
 "nbformat_minor": 2
}
