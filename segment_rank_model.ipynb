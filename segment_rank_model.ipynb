{
 "cells": [
  {
   "cell_type": "code",
   "execution_count": 1,
   "metadata": {},
   "outputs": [],
   "source": [
    "import math, glob, time, os, re, json\n",
    "import numpy as np\n",
    "import pandas as pd\n",
    "from collections import defaultdict\n",
    "from matplotlib import pyplot as plt\n",
    "from tqdm.notebook import trange, tqdm"
   ]
  },
  {
   "cell_type": "code",
   "execution_count": 2,
   "metadata": {},
   "outputs": [],
   "source": [
    "def normalized_histogram(data, bins):\n",
    "    weights = np.ones_like(data) / len(data)\n",
    "    return np.histogram(data, bins, weights = weights)\n",
    "\n",
    "plt.rcParams.update({'font.size': 22})"
   ]
  },
  {
   "cell_type": "code",
   "execution_count": 3,
   "metadata": {},
   "outputs": [
    {
     "name": "stdout",
     "output_type": "stream",
     "text": [
      "Loaded 2431 games and 665119 moves.\n"
     ]
    }
   ],
   "source": [
    "moves_data = pd.read_csv('moves-20b.csv.gz',index_col=0)\n",
    "games_data = pd.read_csv('games-20b.csv.gz',index_col=0)\n",
    "print(f\"Loaded {games_data.shape[0]} games and {moves_data.shape[0]} moves.\")"
   ]
  },
  {
   "cell_type": "code",
   "execution_count": 4,
   "metadata": {},
   "outputs": [],
   "source": [
    "user_moves = moves_data[moves_data.move_color==moves_data.user_color].copy()"
   ]
  },
  {
   "cell_type": "code",
   "execution_count": 13,
   "metadata": {},
   "outputs": [],
   "source": [
    "segment_length = 60\n",
    "half_seg = 30\n",
    "def make_features(df,segment_mid):\n",
    "    df = df[(df.move >= segment_mid - half_seg+1) & (df.move <= segment_mid+half_seg)]\n",
    "    if df.shape[0] != half_seg:\n",
    "        return None\n",
    "    pol_rank_frac, _bins = normalized_histogram(df.policy_rank.values,\n",
    "                                                bins=[-0.5,0.5,3.5,9.5,19.5,39.5,79.5])\n",
    "    score_loss, _bins = normalized_histogram(df.points_lost.clip(-6,50),bins=[-6,-1.5,-0.5,0.5,1.5,3,6,12,25,50])\n",
    "    df.num_legal\n",
    "    \n",
    "    # mean/ median legal moves?\n",
    "    f =  {f\"{k}.{i}\":v for k,l in {'policy_rank_hist':pol_rank_frac,\n",
    "                                  'score_loss_hist':score_loss}.items()\n",
    "                       for i,v in enumerate(l) } \n",
    "    f['n_legal'] = df.num_legal.mean()\n",
    "    return f"
   ]
  },
  {
   "cell_type": "code",
   "execution_count": 14,
   "metadata": {},
   "outputs": [
    {
     "data": {
      "text/html": [
       "<div>\n",
       "<style scoped>\n",
       "    .dataframe tbody tr th:only-of-type {\n",
       "        vertical-align: middle;\n",
       "    }\n",
       "\n",
       "    .dataframe tbody tr th {\n",
       "        vertical-align: top;\n",
       "    }\n",
       "\n",
       "    .dataframe thead th {\n",
       "        text-align: right;\n",
       "    }\n",
       "</style>\n",
       "<table border=\"1\" class=\"dataframe\">\n",
       "  <thead>\n",
       "    <tr style=\"text-align: right;\">\n",
       "      <th></th>\n",
       "      <th>game_id</th>\n",
       "      <th>move</th>\n",
       "      <th>num_legal</th>\n",
       "      <th>policy_rank</th>\n",
       "      <th>policy_value</th>\n",
       "      <th>top_value</th>\n",
       "      <th>black_score</th>\n",
       "      <th>points_lost</th>\n",
       "      <th>move_color</th>\n",
       "      <th>user_color</th>\n",
       "    </tr>\n",
       "  </thead>\n",
       "  <tbody>\n",
       "    <tr>\n",
       "      <th>0</th>\n",
       "      <td>24614579</td>\n",
       "      <td>1</td>\n",
       "      <td>362</td>\n",
       "      <td>37</td>\n",
       "      <td>0.000729</td>\n",
       "      <td>0.083457</td>\n",
       "      <td>-1.340746</td>\n",
       "      <td>0.628943</td>\n",
       "      <td>black</td>\n",
       "      <td>white</td>\n",
       "    </tr>\n",
       "    <tr>\n",
       "      <th>1</th>\n",
       "      <td>24614579</td>\n",
       "      <td>2</td>\n",
       "      <td>361</td>\n",
       "      <td>6</td>\n",
       "      <td>0.018248</td>\n",
       "      <td>0.416445</td>\n",
       "      <td>-1.148735</td>\n",
       "      <td>0.192010</td>\n",
       "      <td>white</td>\n",
       "      <td>white</td>\n",
       "    </tr>\n",
       "    <tr>\n",
       "      <th>2</th>\n",
       "      <td>24614579</td>\n",
       "      <td>3</td>\n",
       "      <td>360</td>\n",
       "      <td>21</td>\n",
       "      <td>0.000658</td>\n",
       "      <td>0.574577</td>\n",
       "      <td>-1.575831</td>\n",
       "      <td>0.427096</td>\n",
       "      <td>black</td>\n",
       "      <td>white</td>\n",
       "    </tr>\n",
       "    <tr>\n",
       "      <th>3</th>\n",
       "      <td>24614579</td>\n",
       "      <td>4</td>\n",
       "      <td>359</td>\n",
       "      <td>5</td>\n",
       "      <td>0.016626</td>\n",
       "      <td>0.451228</td>\n",
       "      <td>-1.588290</td>\n",
       "      <td>-0.012458</td>\n",
       "      <td>white</td>\n",
       "      <td>white</td>\n",
       "    </tr>\n",
       "    <tr>\n",
       "      <th>4</th>\n",
       "      <td>24614579</td>\n",
       "      <td>5</td>\n",
       "      <td>358</td>\n",
       "      <td>15</td>\n",
       "      <td>0.000753</td>\n",
       "      <td>0.564865</td>\n",
       "      <td>-1.899404</td>\n",
       "      <td>0.311114</td>\n",
       "      <td>black</td>\n",
       "      <td>white</td>\n",
       "    </tr>\n",
       "    <tr>\n",
       "      <th>...</th>\n",
       "      <td>...</td>\n",
       "      <td>...</td>\n",
       "      <td>...</td>\n",
       "      <td>...</td>\n",
       "      <td>...</td>\n",
       "      <td>...</td>\n",
       "      <td>...</td>\n",
       "      <td>...</td>\n",
       "      <td>...</td>\n",
       "      <td>...</td>\n",
       "    </tr>\n",
       "    <tr>\n",
       "      <th>665114</th>\n",
       "      <td>24679322</td>\n",
       "      <td>264</td>\n",
       "      <td>107</td>\n",
       "      <td>4</td>\n",
       "      <td>0.046985</td>\n",
       "      <td>0.078753</td>\n",
       "      <td>-50.762959</td>\n",
       "      <td>-1.000729</td>\n",
       "      <td>white</td>\n",
       "      <td>black</td>\n",
       "    </tr>\n",
       "    <tr>\n",
       "      <th>665115</th>\n",
       "      <td>24679322</td>\n",
       "      <td>265</td>\n",
       "      <td>114</td>\n",
       "      <td>0</td>\n",
       "      <td>0.070761</td>\n",
       "      <td>0.070761</td>\n",
       "      <td>-49.834446</td>\n",
       "      <td>-0.928513</td>\n",
       "      <td>black</td>\n",
       "      <td>black</td>\n",
       "    </tr>\n",
       "    <tr>\n",
       "      <th>665116</th>\n",
       "      <td>24679322</td>\n",
       "      <td>266</td>\n",
       "      <td>106</td>\n",
       "      <td>0</td>\n",
       "      <td>0.080871</td>\n",
       "      <td>0.080871</td>\n",
       "      <td>-50.532585</td>\n",
       "      <td>-0.698139</td>\n",
       "      <td>white</td>\n",
       "      <td>black</td>\n",
       "    </tr>\n",
       "    <tr>\n",
       "      <th>665117</th>\n",
       "      <td>24679322</td>\n",
       "      <td>267</td>\n",
       "      <td>113</td>\n",
       "      <td>0</td>\n",
       "      <td>0.079108</td>\n",
       "      <td>0.079108</td>\n",
       "      <td>-49.847683</td>\n",
       "      <td>-0.684902</td>\n",
       "      <td>black</td>\n",
       "      <td>black</td>\n",
       "    </tr>\n",
       "    <tr>\n",
       "      <th>665118</th>\n",
       "      <td>24679322</td>\n",
       "      <td>268</td>\n",
       "      <td>106</td>\n",
       "      <td>100</td>\n",
       "      <td>0.001247</td>\n",
       "      <td>0.085504</td>\n",
       "      <td>-50.477768</td>\n",
       "      <td>-0.630085</td>\n",
       "      <td>white</td>\n",
       "      <td>black</td>\n",
       "    </tr>\n",
       "  </tbody>\n",
       "</table>\n",
       "<p>665119 rows × 10 columns</p>\n",
       "</div>"
      ],
      "text/plain": [
       "         game_id  move  num_legal  policy_rank  policy_value  top_value  \\\n",
       "0       24614579     1        362           37      0.000729   0.083457   \n",
       "1       24614579     2        361            6      0.018248   0.416445   \n",
       "2       24614579     3        360           21      0.000658   0.574577   \n",
       "3       24614579     4        359            5      0.016626   0.451228   \n",
       "4       24614579     5        358           15      0.000753   0.564865   \n",
       "...          ...   ...        ...          ...           ...        ...   \n",
       "665114  24679322   264        107            4      0.046985   0.078753   \n",
       "665115  24679322   265        114            0      0.070761   0.070761   \n",
       "665116  24679322   266        106            0      0.080871   0.080871   \n",
       "665117  24679322   267        113            0      0.079108   0.079108   \n",
       "665118  24679322   268        106          100      0.001247   0.085504   \n",
       "\n",
       "        black_score  points_lost move_color user_color  \n",
       "0         -1.340746     0.628943      black      white  \n",
       "1         -1.148735     0.192010      white      white  \n",
       "2         -1.575831     0.427096      black      white  \n",
       "3         -1.588290    -0.012458      white      white  \n",
       "4         -1.899404     0.311114      black      white  \n",
       "...             ...          ...        ...        ...  \n",
       "665114   -50.762959    -1.000729      white      black  \n",
       "665115   -49.834446    -0.928513      black      black  \n",
       "665116   -50.532585    -0.698139      white      black  \n",
       "665117   -49.847683    -0.684902      black      black  \n",
       "665118   -50.477768    -0.630085      white      black  \n",
       "\n",
       "[665119 rows x 10 columns]"
      ]
     },
     "execution_count": 14,
     "metadata": {},
     "output_type": "execute_result"
    }
   ],
   "source": [
    "moves_data"
   ]
  },
  {
   "cell_type": "code",
   "execution_count": 17,
   "metadata": {},
   "outputs": [
    {
     "data": {
      "application/vnd.jupyter.widget-view+json": {
       "model_id": "d3f553ce728c4783bb09e0b989337bac",
       "version_major": 2,
       "version_minor": 0
      },
      "text/plain": [
       "HBox(children=(FloatProgress(value=0.0, max=2431.0), HTML(value='')))"
      ]
     },
     "metadata": {},
     "output_type": "display_data"
    },
    {
     "name": "stdout",
     "output_type": "stream",
     "text": [
      "\n"
     ]
    }
   ],
   "source": [
    "x = []\n",
    "y = []\n",
    "x_game_id = []\n",
    "for game_id,df in tqdm(user_moves.groupby('game_id')):\n",
    "    for segment_mid in range(30,max(df.move)-30,30):\n",
    "        features = make_features(df,segment_mid)\n",
    "        if features is not None:\n",
    "            x_game_id.append(game_id)\n",
    "            x.append(features)\n",
    "            y.append( games_data.loc[game_id,'user_rank'] )"
   ]
  },
  {
   "cell_type": "code",
   "execution_count": 21,
   "metadata": {},
   "outputs": [
    {
     "data": {
      "text/plain": [
       "array([[ 0.65900093,  2.06687613, -2.0942261 , ..., -0.47502476,\n",
       "        -0.26637627,  1.43243315],\n",
       "       [ 1.1520722 , -0.43502168, -1.63885353, ..., -0.47502476,\n",
       "        -0.26637627,  0.97741435],\n",
       "       [ 0.90553657, -0.43502168, -0.72810839, ..., -0.47502476,\n",
       "        -0.26637627,  0.53099035],\n",
       "       ...,\n",
       "       [ 0.16592966,  0.63722024, -0.27273582, ..., -0.47502476,\n",
       "        -0.26637627, -0.72890615],\n",
       "       [-0.08060597,  0.27980627, -0.27273582, ..., -0.47502476,\n",
       "        -0.26637627, -1.16167958],\n",
       "       [ 0.4124653 ,  0.27980627,  1.09338189, ..., -0.47502476,\n",
       "        -0.26637627, -1.54086192]])"
      ]
     },
     "execution_count": 21,
     "metadata": {},
     "output_type": "execute_result"
    }
   ],
   "source": [
    "from sklearn.preprocessing import StandardScaler\n",
    "ss = StandardScaler()\n",
    "\n",
    "df = pd.DataFrame(x)\n",
    "y_all=np.array(y)\n",
    "sel = y_all<15\n",
    "y_sel = y_all[sel]\n",
    "x=df.values\n",
    "xN_sel = ss.fit_transform(x[sel,:])\n",
    "xN_all = ss.transform(x)\n",
    "x_game_id=np.array(x_game_id)\n",
    "xN_sel"
   ]
  },
  {
   "cell_type": "code",
   "execution_count": 31,
   "metadata": {},
   "outputs": [],
   "source": [
    "import keras\n",
    "from keras.models import Sequential\n",
    "from keras.layers import Dense\n",
    "from keras.callbacks import EarlyStopping\n",
    "from keras_tqdm import TQDMNotebookCallback\n",
    "model = Sequential()\n",
    "model.add(Dense(20, input_dim=16, activation='tanh')) #, kernel_regularizer='l2'))\n",
    "model.add(Dense(10, activation='tanh')) # , kernel_regularizer='l2'))\n",
    "model.add(Dense(1, activation=None))\n",
    "model.compile(loss='mse', optimizer='adam')"
   ]
  },
  {
   "cell_type": "code",
   "execution_count": 37,
   "metadata": {},
   "outputs": [
    {
     "data": {
      "application/vnd.jupyter.widget-view+json": {
       "model_id": "b064cb5374c54e29b310b025ea84b69a",
       "version_major": 2,
       "version_minor": 0
      },
      "text/plain": [
       "HBox(children=(FloatProgress(value=0.0, description='Training', style=ProgressStyle(description_width='initial…"
      ]
     },
     "metadata": {},
     "output_type": "display_data"
    },
    {
     "data": {
      "application/vnd.jupyter.widget-view+json": {
       "model_id": "",
       "version_major": 2,
       "version_minor": 0
      },
      "text/plain": [
       "HBox(children=(FloatProgress(value=0.0, description='Epoch 0', max=12604.0, style=ProgressStyle(description_wi…"
      ]
     },
     "metadata": {},
     "output_type": "display_data"
    },
    {
     "data": {
      "application/vnd.jupyter.widget-view+json": {
       "model_id": "",
       "version_major": 2,
       "version_minor": 0
      },
      "text/plain": [
       "HBox(children=(FloatProgress(value=0.0, description='Epoch 1', max=12604.0, style=ProgressStyle(description_wi…"
      ]
     },
     "metadata": {},
     "output_type": "display_data"
    },
    {
     "data": {
      "application/vnd.jupyter.widget-view+json": {
       "model_id": "",
       "version_major": 2,
       "version_minor": 0
      },
      "text/plain": [
       "HBox(children=(FloatProgress(value=0.0, description='Epoch 2', max=12604.0, style=ProgressStyle(description_wi…"
      ]
     },
     "metadata": {},
     "output_type": "display_data"
    },
    {
     "data": {
      "application/vnd.jupyter.widget-view+json": {
       "model_id": "",
       "version_major": 2,
       "version_minor": 0
      },
      "text/plain": [
       "HBox(children=(FloatProgress(value=0.0, description='Epoch 3', max=12604.0, style=ProgressStyle(description_wi…"
      ]
     },
     "metadata": {},
     "output_type": "display_data"
    },
    {
     "data": {
      "application/vnd.jupyter.widget-view+json": {
       "model_id": "",
       "version_major": 2,
       "version_minor": 0
      },
      "text/plain": [
       "HBox(children=(FloatProgress(value=0.0, description='Epoch 4', max=12604.0, style=ProgressStyle(description_wi…"
      ]
     },
     "metadata": {},
     "output_type": "display_data"
    },
    {
     "data": {
      "application/vnd.jupyter.widget-view+json": {
       "model_id": "",
       "version_major": 2,
       "version_minor": 0
      },
      "text/plain": [
       "HBox(children=(FloatProgress(value=0.0, description='Epoch 5', max=12604.0, style=ProgressStyle(description_wi…"
      ]
     },
     "metadata": {},
     "output_type": "display_data"
    },
    {
     "data": {
      "application/vnd.jupyter.widget-view+json": {
       "model_id": "",
       "version_major": 2,
       "version_minor": 0
      },
      "text/plain": [
       "HBox(children=(FloatProgress(value=0.0, description='Epoch 6', max=12604.0, style=ProgressStyle(description_wi…"
      ]
     },
     "metadata": {},
     "output_type": "display_data"
    },
    {
     "data": {
      "application/vnd.jupyter.widget-view+json": {
       "model_id": "",
       "version_major": 2,
       "version_minor": 0
      },
      "text/plain": [
       "HBox(children=(FloatProgress(value=0.0, description='Epoch 7', max=12604.0, style=ProgressStyle(description_wi…"
      ]
     },
     "metadata": {},
     "output_type": "display_data"
    },
    {
     "data": {
      "application/vnd.jupyter.widget-view+json": {
       "model_id": "",
       "version_major": 2,
       "version_minor": 0
      },
      "text/plain": [
       "HBox(children=(FloatProgress(value=0.0, description='Epoch 8', max=12604.0, style=ProgressStyle(description_wi…"
      ]
     },
     "metadata": {},
     "output_type": "display_data"
    },
    {
     "data": {
      "application/vnd.jupyter.widget-view+json": {
       "model_id": "",
       "version_major": 2,
       "version_minor": 0
      },
      "text/plain": [
       "HBox(children=(FloatProgress(value=0.0, description='Epoch 9', max=12604.0, style=ProgressStyle(description_wi…"
      ]
     },
     "metadata": {},
     "output_type": "display_data"
    },
    {
     "data": {
      "application/vnd.jupyter.widget-view+json": {
       "model_id": "",
       "version_major": 2,
       "version_minor": 0
      },
      "text/plain": [
       "HBox(children=(FloatProgress(value=0.0, description='Epoch 10', max=12604.0, style=ProgressStyle(description_w…"
      ]
     },
     "metadata": {},
     "output_type": "display_data"
    },
    {
     "data": {
      "application/vnd.jupyter.widget-view+json": {
       "model_id": "",
       "version_major": 2,
       "version_minor": 0
      },
      "text/plain": [
       "HBox(children=(FloatProgress(value=0.0, description='Epoch 11', max=12604.0, style=ProgressStyle(description_w…"
      ]
     },
     "metadata": {},
     "output_type": "display_data"
    },
    {
     "data": {
      "application/vnd.jupyter.widget-view+json": {
       "model_id": "",
       "version_major": 2,
       "version_minor": 0
      },
      "text/plain": [
       "HBox(children=(FloatProgress(value=0.0, description='Epoch 12', max=12604.0, style=ProgressStyle(description_w…"
      ]
     },
     "metadata": {},
     "output_type": "display_data"
    },
    {
     "data": {
      "application/vnd.jupyter.widget-view+json": {
       "model_id": "",
       "version_major": 2,
       "version_minor": 0
      },
      "text/plain": [
       "HBox(children=(FloatProgress(value=0.0, description='Epoch 13', max=12604.0, style=ProgressStyle(description_w…"
      ]
     },
     "metadata": {},
     "output_type": "display_data"
    },
    {
     "data": {
      "application/vnd.jupyter.widget-view+json": {
       "model_id": "",
       "version_major": 2,
       "version_minor": 0
      },
      "text/plain": [
       "HBox(children=(FloatProgress(value=0.0, description='Epoch 14', max=12604.0, style=ProgressStyle(description_w…"
      ]
     },
     "metadata": {},
     "output_type": "display_data"
    },
    {
     "data": {
      "application/vnd.jupyter.widget-view+json": {
       "model_id": "",
       "version_major": 2,
       "version_minor": 0
      },
      "text/plain": [
       "HBox(children=(FloatProgress(value=0.0, description='Epoch 15', max=12604.0, style=ProgressStyle(description_w…"
      ]
     },
     "metadata": {},
     "output_type": "display_data"
    },
    {
     "data": {
      "application/vnd.jupyter.widget-view+json": {
       "model_id": "",
       "version_major": 2,
       "version_minor": 0
      },
      "text/plain": [
       "HBox(children=(FloatProgress(value=0.0, description='Epoch 16', max=12604.0, style=ProgressStyle(description_w…"
      ]
     },
     "metadata": {},
     "output_type": "display_data"
    },
    {
     "name": "stdout",
     "output_type": "stream",
     "text": [
      "\n",
      "Epoch 00017: early stopping\n"
     ]
    }
   ],
   "source": [
    "es = EarlyStopping(monitor='val_loss', mode='min', verbose=1, patience=10)\n",
    "history = model.fit(xN_sel, y_sel, epochs=100, batch_size=16,verbose=0,\n",
    "                    validation_split=0.1,callbacks=[TQDMNotebookCallback(),es]) "
   ]
  },
  {
   "cell_type": "code",
   "execution_count": 38,
   "metadata": {},
   "outputs": [
    {
     "data": {
      "text/plain": [
       "<matplotlib.legend.Legend at 0x7f16e453f2e8>"
      ]
     },
     "execution_count": 38,
     "metadata": {},
     "output_type": "execute_result"
    },
    {
     "data": {
      "image/png": "[encoded data removed]",
      "text/plain": [
       "<Figure size 432x288 with 1 Axes>"
      ]
     },
     "metadata": {
      "needs_background": "light"
     },
     "output_type": "display_data"
    }
   ],
   "source": [
    "plt.plot(history.history['loss'])\n",
    "plt.plot(history.history['val_loss']); plt.legend(['loss','validation loss'])"
   ]
  },
  {
   "cell_type": "code",
   "execution_count": 36,
   "metadata": {},
   "outputs": [
    {
     "data": {
      "text/plain": [
       "Text(0, 0.5, 'Predicted Rank')"
      ]
     },
     "execution_count": 36,
     "metadata": {},
     "output_type": "execute_result"
    },
    {
     "data": {
      "image/png": "[encoded data removed]",
      "text/plain": [
       "<Figure size 432x288 with 1 Axes>"
      ]
     },
     "metadata": {
      "needs_background": "light"
     },
     "output_type": "display_data"
    }
   ],
   "source": [
    "pY = model.predict(xN_all)[:,0]\n",
    "pY_sel = model.predict(xN_sel)[:,0]\n",
    "plt.scatter(y,pY)\n",
    "plt.scatter(y_sel,pY_sel)\n",
    "plt.xlabel('OGS Rank')\n",
    "plt.ylabel('Predicted Rank')"
   ]
  },
  {
   "cell_type": "code",
   "execution_count": 26,
   "metadata": {},
   "outputs": [
    {
     "data": {
      "text/plain": [
       "Text(0, 0.5, 'Predicted Rank')"
      ]
     },
     "execution_count": 26,
     "metadata": {},
     "output_type": "execute_result"
    },
    {
     "data": {
      "image/png": "[encoded data removed]",
      "text/plain": [
       "<Figure size 432x288 with 1 Axes>"
      ]
     },
     "metadata": {
      "needs_background": "light"
     },
     "output_type": "display_data"
    }
   ],
   "source": [
    "from scipy.stats import kde\n",
    "nbins=300\n",
    "k = kde.gaussian_kde(np.array([y,pY]))\n",
    "xi, yi = np.mgrid[-10:30:nbins*1j, -10:30:nbins*1j]\n",
    "zi = k(np.vstack([xi.flatten(), yi.flatten()]))\n",
    "plt.pcolormesh(xi, yi, zi.reshape(xi.shape), cmap=plt.cm.magma)\n",
    "plt.plot([-10, 30], [-10, 30], linewidth=0.5, c='m')\n",
    "plt.xlabel('OGS Rank')\n",
    "plt.ylabel('Predicted Rank')"
   ]
  },
  {
   "cell_type": "code",
   "execution_count": null,
   "metadata": {},
   "outputs": [],
   "source": []
  }
 ],
 "metadata": {
  "kernelspec": {
   "display_name": "Python 3",
   "language": "python",
   "name": "python3"
  },
  "language_info": {
   "codemirror_mode": {
    "name": "ipython",
    "version": 3
   },
   "file_extension": ".py",
   "mimetype": "text/x-python",
   "name": "python",
   "nbconvert_exporter": "python",
   "pygments_lexer": "ipython3",
   "version": "3.7.3"
  }
 },
 "nbformat": 4,
 "nbformat_minor": 2
}
