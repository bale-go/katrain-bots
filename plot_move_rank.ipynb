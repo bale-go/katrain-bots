{
 "cells": [
  {
   "cell_type": "code",
   "execution_count": 21,
   "metadata": {},
   "outputs": [],
   "source": [
    "import math, glob, time, os, re, json\n",
    "import numpy as np\n",
    "import pandas as pd\n",
    "from matplotlib import pyplot as plt\n",
    "from tqdm.notebook import trange, tqdm\n",
    "\n",
    "from katrain.core.base_katrain import KaTrainBase\n",
    "from katrain.core.game import Game, KaTrainSGF\n",
    "from katrain.core.engine import KataGoEngine"
   ]
  },
  {
   "cell_type": "code",
   "execution_count": 2,
   "metadata": {},
   "outputs": [
    {
     "name": "stdout",
     "output_type": "stream",
     "text": [
      "Using user config file /home/sander/.katrain/config.json\n"
     ]
    }
   ],
   "source": [
    "kt = KaTrainBase()"
   ]
  },
  {
   "cell_type": "code",
   "execution_count": 84,
   "metadata": {},
   "outputs": [],
   "source": [
    "e_config = kt.config(\"engine\")\n",
    "e_config[\"max_visits\"] = e_config[\"fast_visits\"] = 1  # since it's just policy anyway\n",
    "e_config[\"threads\"] = 64"
   ]
  },
  {
   "cell_type": "code",
   "execution_count": 86,
   "metadata": {},
   "outputs": [
    {
     "name": "stdout",
     "output_type": "stream",
     "text": [
      "2020-06-11 10:51:13+0200: Analysis Engine starting...\n",
      "2020-06-11 10:51:13+0200: KataGo v1.4.2+kt1.1 (minified)\n",
      "2020-06-11 10:51:13+0200: nnRandSeed0 = 16258919693616980482\n",
      "2020-06-11 10:51:13+0200: After dedups: nnModelFile0 = /home/sander/anaconda3/lib/python3.7/site-packages/katrain/models/g170e-b15c192-s1672170752-d466197061.bin.gz useFP16 auto useNHWC auto\n",
      "2020-06-11 10:51:14+0200: Found OpenCL Platform 0: NVIDIA CUDA (NVIDIA Corporation) (OpenCL 1.2 CUDA 10.2.131)\n",
      "2020-06-11 10:51:14+0200: Found 1 device(s) on platform 0 with type CPU or GPU or Accelerator\n",
      "2020-06-11 10:51:14+0200: Found OpenCL Device 0: GeForce GTX 1050 Ti with Max-Q Design (NVIDIA Corporation) (score 11000102)\n",
      "2020-06-11 10:51:14+0200: Using OpenCL Device 0: GeForce GTX 1050 Ti with Max-Q Design (NVIDIA Corporation) OpenCL 1.2 CUDA\n",
      "2020-06-11 10:51:14+0200: Loaded tuning parameters from: /home/sander/.katrain/opencltuning/tune6_gpuGeForceGTX1050TiwithMaxQDesign_x19_y19_c192_mv8.txt\n",
      "2020-06-11 10:51:14+0200: Note: nnMaxBatchSize * number of GPUs (72) is smaller than numSearchThreads * numAnalysisThreads (384)\n",
      "2020-06-11 10:51:14+0200: The number of simultaneous threads that might query the GPU could be larger than the batch size that the GPU will handle at once.\n",
      "2020-06-11 10:51:14+0200: It may improve performance to increase nnMaxBatchSize, unless you are constrained on GPU memory.\n",
      "2020-06-11 10:51:14+0200: Loaded config /home/sander/anaconda3/lib/python3.7/site-packages/katrain/KataGo/analysis_config.cfg\n",
      "2020-06-11 10:51:14+0200: Loaded model /home/sander/anaconda3/lib/python3.7/site-packages/katrain/models/g170e-b15c192-s1672170752-d466197061.bin.gz\n",
      "2020-06-11 10:51:14+0200: OpenCL backend: Model version 8\n",
      "2020-06-11 10:51:14+0200: OpenCL backend: Model name: g170-b15c192-s1672170752-d466197061\n",
      "2020-06-11 10:51:14+0200: Analyzing up to 64 positions at at time in parallel\n",
      "2020-06-11 10:51:14+0200: Started, ready to begin handling requests\n"
     ]
    }
   ],
   "source": [
    "engine = KataGoEngine(kt, e_config)"
   ]
  },
  {
   "cell_type": "code",
   "execution_count": 109,
   "metadata": {},
   "outputs": [],
   "source": [
    "PLAYERS={'W':'white','B':'black'}\n",
    "def get_policy_stats(game):\n",
    "    game.redo(999)\n",
    "    moves = game.current_node.nodes_from_root[1:]  # without root\n",
    "    while not all(m.analysis_ready for m in moves):\n",
    "        time.sleep(0.01)\n",
    "\n",
    "    parent_policy_per_move = [move.parent.policy_ranking for move in moves]\n",
    "    num_legal_moves = [sum(pv >= 0 for pv, _ in policy_ranking) for policy_ranking in parent_policy_per_move]\n",
    "    policy_stats = [\n",
    "        [(move_num, num_mv, rank, value, policy_ranking[0][0], PLAYERS[mv.player]) for rank, (value, mv) in enumerate(policy_ranking) if mv == move.move][0]\n",
    "        for move_num,(move, policy_ranking, num_mv) in enumerate(zip(moves, parent_policy_per_move, num_legal_moves))\n",
    "    ]\n",
    "    return policy_stats\n",
    "\n",
    "\n",
    "def rank_to_kyu(r):\n",
    "    return 30-r"
   ]
  },
  {
   "cell_type": "code",
   "execution_count": 133,
   "metadata": {},
   "outputs": [
    {
     "data": {
      "application/vnd.jupyter.widget-view+json": {
       "model_id": "717b9a5733b4448b8010741e1d349c3c",
       "version_major": 2,
       "version_minor": 0
      },
      "text/plain": [
       "HBox(children=(FloatProgress(value=0.0, max=1053.0), HTML(value='')))"
      ]
     },
     "metadata": {},
     "output_type": "display_data"
    },
    {
     "name": "stdout",
     "output_type": "stream",
     "text": [
      "\n"
     ]
    }
   ],
   "source": [
    "games_data = pd.DataFrame(columns=['bot','bot_rank','user','user_rank','user_color','winner','outcome'])\n",
    "moves_data = []\n",
    "\n",
    "\n",
    "for filename in tqdm(glob.glob(\"sgf_ogs/*.sgf\")):\n",
    "    sgf = KaTrainSGF.parse_file(filename)\n",
    "\n",
    "    gamedata_str = re.search('Gamedata:(.*)SGF with review',sgf.properties['C'][0],re.DOTALL)[1]\n",
    "    gamedata = json.loads(gamedata_str)\n",
    "    outcome = gamedata['outcome']\n",
    "    rank = {p:rank_to_kyu(gamedata['players'][p]['rank']) for p in ['white','black']}\n",
    "    players = {p:gamedata['players'][p]['username'] for p in ['white','black']}\n",
    "    ids = {p:gamedata['players'][p]['id'] for p in ['white','black']}\n",
    "    bot_player = 'black' if 'katrain-' in players['black'] else 'white'\n",
    "    non_bot_player = 'black' if bot_player=='white' else 'white'\n",
    "    winner = 'black' if gamedata['winner']==ids['black'] else 'white'\n",
    "    gameid = gamedata['game_id']\n",
    "\n",
    "    if outcome == 'Cancellation' or sgf.board_size!=(19,19) or not gamedata['ranked']:\n",
    "        continue\n",
    "\n",
    "    try:\n",
    "        move_analysis =  [ (gameid,*stats,non_bot_player) for stats in get_policy_stats(game) ] \n",
    "    except:\n",
    "        print(f\"Error in analyzing {filename}\") # branching etc\n",
    "        continue\n",
    "        \n",
    "    games_data.loc[gameid] = (players[bot_player],rank[bot_player],\n",
    "                          players[non_bot_player],rank[non_bot_player],non_bot_player,\n",
    "                          winner,outcome)\n",
    "    game = Game(kt, engine, move_tree=sgf)\n",
    "    moves_data.append(move_analysis)\n",
    "    \n",
    "moves_data = pd.DataFrame( sum(moves_data,[]),    \n",
    "    columns=['game_id','move','num_legal','policy_rank','policy_value','top_value','move_color','user_color'])    "
   ]
  },
  {
   "cell_type": "code",
   "execution_count": 135,
   "metadata": {},
   "outputs": [
    {
     "data": {
      "text/plain": [
       "<matplotlib.collections.PathCollection at 0x7f0ef8b5d550>"
      ]
     },
     "execution_count": 135,
     "metadata": {},
     "output_type": "execute_result"
    },
    {
     "data": {
      "image/png": "[encoded data removed]",
      "text/plain": [
       "<Figure size 432x288 with 1 Axes>"
      ]
     },
     "metadata": {
      "needs_background": "light"
     },
     "output_type": "display_data"
    }
   ],
   "source": [
    "plt.scatter(df.bot_rank,df.user_rank)"
   ]
  },
  {
   "cell_type": "code",
   "execution_count": 136,
   "metadata": {},
   "outputs": [
    {
     "data": {
      "image/png": "[encoded data removed]",
      "text/plain": [
       "<Figure size 432x288 with 1 Axes>"
      ]
     },
     "metadata": {
      "needs_background": "light"
     },
     "output_type": "display_data"
    }
   ],
   "source": [
    "plt.hist(df.user_rank,bins=range(-10,40));"
   ]
  },
  {
   "cell_type": "code",
   "execution_count": 150,
   "metadata": {},
   "outputs": [],
   "source": [
    "user_moves = moves_data[moves_data.move_color==moves_data.user_color]\n",
    "user_moves['rank'] = games_data.loc[user_moves.game_id].user_rank.values"
   ]
  },
  {
   "cell_type": "code",
   "execution_count": 162,
   "metadata": {},
   "outputs": [],
   "source": [
    "rank_stats = [(r,df.policy_rank.mean(),df.policy_rank.median(),df.shape[0]) for r,df in user_moves.groupby(user_moves['rank'].round())]"
   ]
  },
  {
   "cell_type": "code",
   "execution_count": 163,
   "metadata": {},
   "outputs": [
    {
     "data": {
      "text/plain": [
       "<matplotlib.legend.Legend at 0x7f0ef8969048>"
      ]
     },
     "execution_count": 163,
     "metadata": {},
     "output_type": "execute_result"
    },
    {
     "data": {
      "image/png": "[encoded data removed]",
      "text/plain": [
       "<Figure size 432x288 with 1 Axes>"
      ]
     },
     "metadata": {
      "needs_background": "light"
     },
     "output_type": "display_data"
    }
   ],
   "source": [
    "rank, mean, median, sample_size = zip(*rank_stats)\n",
    "plt.plot(rank,mean,rank,median)\n",
    "plt.xlabel('kyu rating')\n",
    "plt.legend(['mean rank','median rank'])"
   ]
  },
  {
   "cell_type": "code",
   "execution_count": null,
   "metadata": {},
   "outputs": [],
   "source": []
  }
 ],
 "metadata": {
  "kernelspec": {
   "display_name": "Python 3",
   "language": "python",
   "name": "python3"
  },
  "language_info": {
   "codemirror_mode": {
    "name": "ipython",
    "version": 3
   },
   "file_extension": ".py",
   "mimetype": "text/x-python",
   "name": "python",
   "nbconvert_exporter": "python",
   "pygments_lexer": "ipython3",
   "version": "3.7.3"
  }
 },
 "nbformat": 4,
 "nbformat_minor": 2
}
